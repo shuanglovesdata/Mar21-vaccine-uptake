{
 "cells": [
  {
   "cell_type": "code",
   "execution_count": null,
   "metadata": {
    "id": "5B_87VhB1vXU"
   },
   "outputs": [],
   "source": [
    "!pip install transformers==3.1.0"
   ]
  },
  {
   "cell_type": "markdown",
   "metadata": {
    "id": "sNUzoOTJ1V-8"
   },
   "source": [
    "# Load in some Tweets and filtered to vaccine specific ones:"
   ]
  },
  {
   "cell_type": "code",
   "execution_count": 26,
   "metadata": {
    "id": "S5rlKXGJ1V-8"
   },
   "outputs": [],
   "source": [
    "TweetsDF=pd.read_csv( 'twitter_data_cleaned.csv')\n",
    "TweetsDF=TweetsDF.drop_duplicates(subset=['full_text'])\n",
    "VaccTweetsDF=TweetsDF[TweetsDF['full_text'].str.lower().str.contains(\"vac\")]\n",
    "sampledSequences=VaccTweetsDF.full_text.tolist()"
   ]
  },
  {
   "cell_type": "code",
   "execution_count": 27,
   "metadata": {
    "colab": {
     "base_uri": "https://localhost:8080/"
    },
    "id": "W1OGqOb2AlGU",
    "outputId": "e34c318f-6130-45a4-9b97-83471c0fbe6a"
   },
   "outputs": [
    {
     "data": {
      "text/plain": [
       "31454"
      ]
     },
     "execution_count": 27,
     "metadata": {
      "tags": []
     },
     "output_type": "execute_result"
    }
   ],
   "source": [
    "len(sampledSequences)"
   ]
  },
  {
   "cell_type": "markdown",
   "metadata": {
    "id": "9fSCdjEE4HXv"
   },
   "source": [
    "# Use a transformer model (tuned for Natural Language Inference) to look for  Tweets that logically entail the hypothesis of \"don't want to get the Covid vaccine.\""
   ]
  },
  {
   "cell_type": "code",
   "execution_count": null,
   "metadata": {
    "id": "JRPN0Q1P32E2"
   },
   "outputs": [],
   "source": [
    "from transformers import pipeline\n",
    "import pandas as pd\n",
    "\n",
    "#classifier = pipeline(\"zero-shot-classification\")\n",
    "\n",
    "classifier = pipeline(\"zero-shot-classification\", device=0) # to utilize GPU"
   ]
  },
  {
   "cell_type": "code",
   "execution_count": null,
   "metadata": {
    "id": "AEljEGif1V-_"
   },
   "outputs": [],
   "source": [
    "%%time\n",
    "\n",
    "sequences=sampledSequences[0:1000]\n",
    "\n",
    "candidate_labels = [\"want\", \"don't want\"]\n",
    "hypothesis_template = \"{} to get the Covid vaccine.\"\n",
    "\n",
    "outputs=classifier(sequences, candidate_labels, hypothesis_template=hypothesis_template)#, multi_class=True)\n",
    "\n",
    "outputDF=pd.DataFrame(outputs)\n",
    "ExportDF=outputDF.set_index('sequence').apply(pd.Series.explode).reset_index()"
   ]
  },
  {
   "cell_type": "markdown",
   "metadata": {
    "id": "hRJM5hY250IH"
   },
   "source": [
    "# Unfortunately this is too computationally intensive \n",
    "\n",
    "I didn't figure out how to clear GPU memory cache programatically on Colab, so only ran it for 1000 tweets with a few manual runtime resets)"
   ]
  },
  {
   "cell_type": "code",
   "execution_count": null,
   "metadata": {
    "id": "lYgH8r6f31UE"
   },
   "outputs": [],
   "source": [
    "ExportDF.to_csv('VaccTweets_Label_1000.csv')"
   ]
  },
  {
   "cell_type": "code",
   "execution_count": 16,
   "metadata": {
    "id": "ExfmAzpVPAr8"
   },
   "outputs": [],
   "source": [
    "import glob\n",
    "\n",
    "path = '/content/Labelled' # use your path\n",
    "all_files = glob.glob( path+ \"/*.csv\")\n",
    "\n",
    "li = []\n",
    "\n",
    "for filename in all_files:\n",
    "    df = pd.read_csv(filename, index_col=None, header=0)\n",
    "    li.append(df)\n",
    "\n",
    "LabelledDF = pd.concat(li, axis=0, ignore_index=True)"
   ]
  },
  {
   "cell_type": "code",
   "execution_count": 19,
   "metadata": {
    "colab": {
     "base_uri": "https://localhost:8080/",
     "height": 204
    },
    "id": "M--wTlYoPvI1",
    "outputId": "a3a357cb-ab98-49d6-8d09-7355d04345af"
   },
   "outputs": [
    {
     "data": {
      "text/html": [
       "<div>\n",
       "<style scoped>\n",
       "    .dataframe tbody tr th:only-of-type {\n",
       "        vertical-align: middle;\n",
       "    }\n",
       "\n",
       "    .dataframe tbody tr th {\n",
       "        vertical-align: top;\n",
       "    }\n",
       "\n",
       "    .dataframe thead th {\n",
       "        text-align: right;\n",
       "    }\n",
       "</style>\n",
       "<table border=\"1\" class=\"dataframe\">\n",
       "  <thead>\n",
       "    <tr style=\"text-align: right;\">\n",
       "      <th></th>\n",
       "      <th>Unnamed: 0</th>\n",
       "      <th>sequence</th>\n",
       "      <th>labels</th>\n",
       "      <th>scores</th>\n",
       "    </tr>\n",
       "  </thead>\n",
       "  <tbody>\n",
       "    <tr>\n",
       "      <th>0</th>\n",
       "      <td>0</td>\n",
       "      <td>Please reply to this tweet if you want to shar...</td>\n",
       "      <td>want</td>\n",
       "      <td>0.987453</td>\n",
       "    </tr>\n",
       "    <tr>\n",
       "      <th>1</th>\n",
       "      <td>1</td>\n",
       "      <td>Please reply to this tweet if you want to shar...</td>\n",
       "      <td>don't want</td>\n",
       "      <td>0.012547</td>\n",
       "    </tr>\n",
       "    <tr>\n",
       "      <th>2</th>\n",
       "      <td>2</td>\n",
       "      <td>Gov. Ron DeSantis giving his rich friends the ...</td>\n",
       "      <td>want</td>\n",
       "      <td>0.980986</td>\n",
       "    </tr>\n",
       "    <tr>\n",
       "      <th>3</th>\n",
       "      <td>3</td>\n",
       "      <td>Gov. Ron DeSantis giving his rich friends the ...</td>\n",
       "      <td>don't want</td>\n",
       "      <td>0.019014</td>\n",
       "    </tr>\n",
       "    <tr>\n",
       "      <th>4</th>\n",
       "      <td>4</td>\n",
       "      <td>TRIPLE WORRISOME—Data says the new variant tha...</td>\n",
       "      <td>don't want</td>\n",
       "      <td>0.527854</td>\n",
       "    </tr>\n",
       "  </tbody>\n",
       "</table>\n",
       "</div>"
      ],
      "text/plain": [
       "   Unnamed: 0  ...    scores\n",
       "0           0  ...  0.987453\n",
       "1           1  ...  0.012547\n",
       "2           2  ...  0.980986\n",
       "3           3  ...  0.019014\n",
       "4           4  ...  0.527854\n",
       "\n",
       "[5 rows x 4 columns]"
      ]
     },
     "execution_count": 19,
     "metadata": {
      "tags": []
     },
     "output_type": "execute_result"
    }
   ],
   "source": [
    "LabelledDF.head()"
   ]
  },
  {
   "cell_type": "code",
   "execution_count": 21,
   "metadata": {
    "colab": {
     "base_uri": "https://localhost:8080/"
    },
    "id": "Fs-fsSslO_ew",
    "outputId": "e90c95de-6968-42ce-df29-1cbc279e0de7"
   },
   "outputs": [
    {
     "data": {
      "text/plain": [
       "(108, 4)"
      ]
     },
     "execution_count": 21,
     "metadata": {
      "tags": []
     },
     "output_type": "execute_result"
    }
   ],
   "source": [
    "LabelledDF[(LabelledDF.labels==\"don't want\") & (LabelledDF.scores>0.5)].shape"
   ]
  },
  {
   "cell_type": "code",
   "execution_count": 22,
   "metadata": {
    "id": "cnD9sDOiRKgv"
   },
   "outputs": [],
   "source": [
    "antVacc_Tweets=LabelledDF[(LabelledDF.labels==\"don't want\") & (LabelledDF.scores>0.5)]"
   ]
  },
  {
   "cell_type": "code",
   "execution_count": null,
   "metadata": {
    "id": "mo-yRnqbRK4u"
   },
   "outputs": [],
   "source": [
    "antVacc_Tweets.to_csv('antVacc_Tweets.csv', index=False)"
   ]
  },
  {
   "cell_type": "markdown",
   "metadata": {
    "id": "K4lGP72b6T8n"
   },
   "source": [
    "#Read back and filter to strong anti-vaccine tweets:"
   ]
  },
  {
   "cell_type": "code",
   "execution_count": 4,
   "metadata": {
    "id": "sn7lZZlxRLQ8"
   },
   "outputs": [],
   "source": [
    "antVacc_Tweets=pd.read_csv('antVacc_Tweets_full.csv')"
   ]
  },
  {
   "cell_type": "code",
   "execution_count": 5,
   "metadata": {
    "id": "n1yQcknat6nr"
   },
   "outputs": [],
   "source": [
    "strong_antVacc_Tweets=antVacc_Tweets[antVacc_Tweets.scores>0.8]"
   ]
  },
  {
   "cell_type": "code",
   "execution_count": 6,
   "metadata": {
    "colab": {
     "base_uri": "https://localhost:8080/"
    },
    "id": "9WTF-wPzpLZo",
    "outputId": "f3c86e43-e622-446d-dcd9-26d7a799229a"
   },
   "outputs": [
    {
     "data": {
      "text/plain": [
       "(52, 17)"
      ]
     },
     "execution_count": 6,
     "metadata": {
      "tags": []
     },
     "output_type": "execute_result"
    }
   ],
   "source": [
    "strong_antVacc_Tweets.shape"
   ]
  },
  {
   "cell_type": "markdown",
   "metadata": {
    "id": "evDvq5Ux6zSL"
   },
   "source": [
    "# Use a Q&A transformer model to directly \"ask\" the model what are the \"reasons for not taking the vaccine?\" based on each of the strong anti-vaccine tweets:"
   ]
  },
  {
   "cell_type": "code",
   "execution_count": 103,
   "metadata": {
    "colab": {
     "base_uri": "https://localhost:8080/"
    },
    "id": "KO8OCp3wvdqf",
    "outputId": "556b32a4-b262-4112-f44b-f5cc63709e77"
   },
   "outputs": [
    {
     "name": "stderr",
     "output_type": "stream",
     "text": [
      "/usr/local/lib/python3.7/dist-packages/transformers/tokenization_utils_base.py:1321: FutureWarning:\n",
      "\n",
      "The `max_len` attribute has been deprecated and will be removed in a future version, use `model_max_length` instead.\n",
      "\n"
     ]
    },
    {
     "name": "stdout",
     "output_type": "stream",
     "text": [
      "Answer: 'anti-vax, conspiracy theorists,', score: 0.5293, start: 82, end: 113\n"
     ]
    }
   ],
   "source": [
    "# DEMO\n",
    "\n",
    "context = ['People have stated that they will never take the vaccine, either because they are anti-vax, conspiracy theorists, or feel that the current vaccines are rushed and possibly dangerous']\n",
    "\n",
    "QA = pipeline(\"question-answering\")\n",
    "\n",
    "result = QA(question=\"what are the top 10 reasons for not taking the vaccine?\", context=context[0])\n",
    "print(f\"Answer: '{result['answer']}', score: {round(result['score'], 4)}, start: {result['start']}, end: {result['end']}\")\n"
   ]
  },
  {
   "cell_type": "code",
   "execution_count": null,
   "metadata": {
    "id": "leFRgzK1_hkU"
   },
   "outputs": [],
   "source": [
    "context=strong_antVacc_Tweets.full_text[:].tolist()"
   ]
  },
  {
   "cell_type": "code",
   "execution_count": 9,
   "metadata": {
    "colab": {
     "base_uri": "https://localhost:8080/"
    },
    "id": "A_tKQpNMvc2X",
    "outputId": "690d40ba-677c-4485-adc1-caadc4fa7ff7"
   },
   "outputs": [
    {
     "name": "stdout",
     "output_type": "stream",
     "text": [
      "Answer: publicly urged americans not to take the covid - 19 vaccine\n",
      "Answer: integrity\n",
      "Answer: \n",
      "Answer: protesters demonstrate against vaccine coercion , green passports in tel aviv . anti - vax campaigners , and covid 19 sceptics , can come out with the most offensive , and ridiculous , analogies\n",
      "Answer: the reasons health care workers have declined are complicated\n",
      "Answer: they are anti - vax , conspiracy theorists , or feel that the current vaccines are rushed and possibly dangerous\n",
      "Answer: the amount of anti - vax folks in the beginning of this pandemic and the scarcity of covid - 19\n",
      "Answer: \n",
      "Answer: \n",
      "Answer: africans don ’ t like your human / animal experimentations\n",
      "Answer: they don ’ t want to help biden stop the pandemic\n",
      "Answer: inaccuracies and misinformation\n",
      "Answer: 2 florida women busted while dressed up as “ grannies ”\n",
      "Answer: she doesnt feel well\n",
      "Answer: 2 florida women busted while dressed up as “ grannies ”\n",
      "Answer: a sore arm and a rash\n",
      "Answer: \n",
      "Answer: they are labelled anti vaxers\n",
      "Answer: a virus . . . ? ? a pandemic\n",
      "Answer: get sick on purpose with something that hasn ’ t been tested for a virus with a 99 . 9 % survival rate\n",
      "Answer: cost of indian vaccination\n",
      "Answer: experimental vaccines imposed & amp ; those who have concerns being bullied\n",
      "Answer: 2 . 48 million people have died from the virus and not aware of any that have died from the vaccine\n",
      "Answer: the vaccine will massively death rates , covid numbers , hospital and icu admissions\n",
      "Answer: experimental bio - warfare ’ : melbourne anti - vax protesters\n",
      "Answer: no one is getting tested\n",
      "Answer: it is unlikely to kill or severely impact me\n",
      "Answer: not like we ' re literally an at - risk group , particularly at risk because we ' re fucking invisible due to not being included in the groups properly\n",
      "Answer: i already have a perfectly fine immune system which actually also prevents a severe case of covid\n",
      "Answer: support for brexit and being anti - covid vaccination both correlate with intelligence\n",
      "Answer: if a vaccine has side effects\n",
      "Answer: more fear , severe restrictions , vaccinations , deaths\n",
      "Answer: massive death count\n",
      "Answer: i live in brazil where there are more than 200 million people here and less than 5 % is vaccinated\n",
      "Answer: i don ’ t wear a mask , and am not going to get the vaccine\n",
      "Answer: what do they know ? expect more # covidfear from # fakenews @ bbcnews to convince you that you will die without one\n",
      "Answer: i ' d prefer to miss the olympics\n",
      "Answer: petition : do not rollout covid - 19 vaccine passports\n",
      "Answer: pfizer # covid19 # plandemic # vaccine # stopthemadness # openamerica # stand # unitedwestand\n",
      "Answer: my friend got the vaccine and was fucked up for weeks with all the symptoms of covid and more symptoms\n",
      "Answer: petition : do not rollout covid - 19 vaccine passports\n",
      "Answer: the death rate has not change in 3 year - they is no pandemic\n",
      "Answer: south africa leads backlash against big pharma over covid vaccine access\n",
      "Answer: war on # covid19\n",
      "Answer: i have an autoimmune disease that has been very stable for years now and i don ’ t believe triggering an immune response would be a wise choice for me\n",
      "Answer: masks aren ’ t healthy\n",
      "Answer: ineligible people\n",
      "Answer: you may have a better chance of winning the power ball lottery\n",
      "Answer: due to serve allergies and i ' m certainly not having anyone tell me i ' m selfish\n",
      "Answer: age shapes covid - 19 vaccine reluctance among black americans\n",
      "Answer: it was all a chinese conspiracy and my vax would give her the virus\n",
      "Answer: regulator seeks local trial\n",
      "CPU times: user 55.5 s, sys: 2.01 s, total: 57.6 s\n",
      "Wall time: 57.9 s\n"
     ]
    }
   ],
   "source": [
    "%%time\n",
    "\n",
    "# Run on all 52 strong anti-vaccine tweets:\n",
    "\n",
    "from transformers import AutoTokenizer, AutoModelForQuestionAnswering\n",
    "import torch\n",
    "tokenizer = AutoTokenizer.from_pretrained(\"bert-large-uncased-whole-word-masking-finetuned-squad\")\n",
    "model = AutoModelForQuestionAnswering.from_pretrained(\"bert-large-uncased-whole-word-masking-finetuned-squad\", return_dict=True)\n",
    "\n",
    "# Examples for context:\n",
    "# context = ['People have stated that they will never take the vaccine, either because they are anti-vax, conspiracy theorists, or feel that the current vaccines are rushed and possibly dangerous',\\\n",
    "#            'Protesters demonstrate against vaccine coercion, green passports in Tel Aviv. Anti-vax campaigners, and Covid 19 sceptics, can come out with the most offensive, and ridiculous, analogies ',\\\n",
    "#            'Less than 1 week after urging Republicans to block $160B in vaccine funding, Minority Whip @SteveScalise is using his position to elevate Republicans who have publicly urged Americans not to take the COVID-19 vaccine. ',\n",
    "#            'Community Lattice exists to advance community development by equipping people with the resources they need to create economically sustainable, socially equitable, and resilient places.']\n",
    "\n",
    "question = \"what are the reasons for not taking COVID vaccine?\"\n",
    "\n",
    "answers=[]\n",
    "\n",
    "for text in context:\n",
    "    inputs = tokenizer(question, text, add_special_tokens=True, return_tensors=\"pt\")\n",
    "    input_ids = inputs[\"input_ids\"].tolist()[0]\n",
    "    text_tokens = tokenizer.convert_ids_to_tokens(input_ids)\n",
    "    outputs = model(**inputs)\n",
    "    answer_start_scores = outputs.start_logits\n",
    "    answer_end_scores = outputs.end_logits\n",
    "    answer_start = torch.argmax(\n",
    "        answer_start_scores\n",
    "    )  # Get the most likely beginning of answer with the argmax of the score\n",
    "    answer_end = torch.argmax(answer_end_scores) + 1  # Get the most likely end of answer with the argmax of the score\n",
    "    answer = tokenizer.convert_tokens_to_string(tokenizer.convert_ids_to_tokens(input_ids[answer_start:answer_end]))\n",
    "\n",
    "    answers.append(answer)\n",
    "\n",
    "    #print(f\"Question: {question}\")\n",
    "    print(f\"Answer: {answer}\")"
   ]
  },
  {
   "cell_type": "markdown",
   "metadata": {
    "id": "C90sXQY1jYCx"
   },
   "source": [
    "## Get Sentence-Level Embedding for the Answers:"
   ]
  },
  {
   "cell_type": "code",
   "execution_count": 12,
   "metadata": {
    "colab": {
     "base_uri": "https://localhost:8080/"
    },
    "id": "VGhyqwLq2QXe",
    "outputId": "5e6cef61-2024-4a90-84b7-b689ce99103b"
   },
   "outputs": [
    {
     "name": "stdout",
     "output_type": "stream",
     "text": [
      "WARNING:tensorflow:5 out of the last 5 calls to <function recreate_function.<locals>.restored_function_body at 0x7f1795a915f0> triggered tf.function retracing. Tracing is expensive and the excessive number of tracings could be due to (1) creating @tf.function repeatedly in a loop, (2) passing tensors with different shapes, (3) passing Python objects instead of tensors. For (1), please define your @tf.function outside of the loop. For (2), @tf.function has experimental_relax_shapes=True option that relaxes argument shapes that can avoid unnecessary retracing. For (3), please refer to https://www.tensorflow.org/guide/function#controlling_retracing and https://www.tensorflow.org/api_docs/python/tf/function for  more details.\n"
     ]
    },
    {
     "name": "stderr",
     "output_type": "stream",
     "text": [
      "WARNING:tensorflow:5 out of the last 5 calls to <function recreate_function.<locals>.restored_function_body at 0x7f1795a915f0> triggered tf.function retracing. Tracing is expensive and the excessive number of tracings could be due to (1) creating @tf.function repeatedly in a loop, (2) passing tensors with different shapes, (3) passing Python objects instead of tensors. For (1), please define your @tf.function outside of the loop. For (2), @tf.function has experimental_relax_shapes=True option that relaxes argument shapes that can avoid unnecessary retracing. For (3), please refer to https://www.tensorflow.org/guide/function#controlling_retracing and https://www.tensorflow.org/api_docs/python/tf/function for  more details.\n"
     ]
    },
    {
     "name": "stdout",
     "output_type": "stream",
     "text": [
      "52\n"
     ]
    }
   ],
   "source": [
    "import tensorflow_hub as hub\n",
    "\n",
    "embed = hub.load(\"https://tfhub.dev/google/universal-sentence-encoder/4\")\n",
    "embeddings = embed(answers)\n",
    "\n",
    "print(len(embeddings))"
   ]
  },
  {
   "cell_type": "markdown",
   "metadata": {
    "id": "eC2a983E24Qn"
   },
   "source": [
    "# Clustering using KMeans and plot with T-SNE to spot clusters of reasons for not wanting to take the vaccines:"
   ]
  },
  {
   "cell_type": "code",
   "execution_count": 64,
   "metadata": {
    "id": "P2z4wiirnxrn"
   },
   "outputs": [],
   "source": [
    "from sklearn.manifold import TSNE\n",
    "from sklearn.cluster import KMeans\n",
    "import matplotlib.pyplot as plt\n",
    "import seaborn as sns\n",
    "import plotly.express as px\n",
    "import numpy as np"
   ]
  },
  {
   "cell_type": "code",
   "execution_count": 96,
   "metadata": {
    "id": "zDoTrratjvy6"
   },
   "outputs": [],
   "source": [
    "def tsnescatterplot(sentences):\n",
    "    USE_embeddings = embed(sentences).numpy()\n",
    "    word_labels = sentences\n",
    "\n",
    "    # find tsne coords for 3 dimensions\n",
    "    tsne = TSNE(n_components=2, random_state=0)\n",
    "    projections = tsne.fit_transform(USE_embeddings)\n",
    "\n",
    "    kmeans = KMeans(n_clusters=8, random_state=0).fit(USE_embeddings)\n",
    "\n",
    "    fig = px.scatter(\n",
    "        projections, x=0, y=1, #z=2,\n",
    "        hover_name = word_labels,\n",
    "        color=kmeans.labels_.astype(str),\n",
    "        labels={'color': 'kmeans.labels_'}\n",
    "    )\n",
    "    fig.show()"
   ]
  },
  {
   "cell_type": "code",
   "execution_count": 97,
   "metadata": {
    "colab": {
     "base_uri": "https://localhost:8080/",
     "height": 542
    },
    "id": "yTry4O2bjvux",
    "outputId": "e5800e31-d480-4fdb-e89e-2c0e89b9f309"
   },
   "outputs": [
    {
     "data": {
      "text/html": [
       "<html>\n",
       "<head><meta charset=\"utf-8\" /></head>\n",
       "<body>\n",
       "    <div>\n",
       "            <script src=\"https://cdnjs.cloudflare.com/ajax/libs/mathjax/2.7.5/MathJax.js?config=TeX-AMS-MML_SVG\"></script><script type=\"text/javascript\">if (window.MathJax) {MathJax.Hub.Config({SVG: {font: \"STIX-Web\"}});}</script>\n",
       "                <script type=\"text/javascript\">window.PlotlyConfig = {MathJaxConfig: 'local'};</script>\n",
       "        <script src=\"https://cdn.plot.ly/plotly-latest.min.js\"></script>    \n",
       "            <div id=\"dc62a1b5-a2e8-45d7-a857-ab00d1856d6c\" class=\"plotly-graph-div\" style=\"height:525px; width:100%;\"></div>\n",
       "            <script type=\"text/javascript\">\n",
       "                \n",
       "                    window.PLOTLYENV=window.PLOTLYENV || {};\n",
       "                    \n",
       "                if (document.getElementById(\"dc62a1b5-a2e8-45d7-a857-ab00d1856d6c\")) {\n",
       "                    Plotly.newPlot(\n",
       "                        'dc62a1b5-a2e8-45d7-a857-ab00d1856d6c',\n",
       "                        [{\"hoverlabel\": {\"namelength\": 0}, \"hovertemplate\": \"<b>%{hovertext}</b><br><br>kmeans.labels_=1<br>0=%{x}<br>1=%{y}\", \"hovertext\": [\"publicly urged americans not to take the covid - 19 vaccine\", \"protesters demonstrate against vaccine coercion , green passports in tel aviv . anti - vax campaigners , and covid 19 sceptics , can come out with the most offensive , and ridiculous , analogies\", \"they don \\u2019 t want to help biden stop the pandemic\", \"cost of indian vaccination\", \"petition : do not rollout covid - 19 vaccine passports\", \"petition : do not rollout covid - 19 vaccine passports\", \"age shapes covid - 19 vaccine reluctance among black americans\"], \"legendgroup\": \"kmeans.labels_=1\", \"marker\": {\"color\": \"#636efa\", \"symbol\": \"circle\"}, \"mode\": \"markers\", \"name\": \"kmeans.labels_=1\", \"showlegend\": true, \"type\": \"scatter\", \"x\": [-20.380773544311523, -177.6708526611328, 10.834327697753906, -62.21788024902344, 30.6029052734375, 6.966920852661133, -17.241689682006836], \"xaxis\": \"x\", \"y\": [-29.272171020507812, 8.47508716583252, -0.07738137245178223, -93.0099105834961, -46.08327865600586, -64.91255950927734, -105.23944854736328], \"yaxis\": \"y\"}, {\"hoverlabel\": {\"namelength\": 0}, \"hovertemplate\": \"<b>%{hovertext}</b><br><br>kmeans.labels_=5<br>0=%{x}<br>1=%{y}\", \"hovertext\": [\"integrity\", \"inaccuracies and misinformation\", \"ineligible people\"], \"legendgroup\": \"kmeans.labels_=5\", \"marker\": {\"color\": \"#EF553B\", \"symbol\": \"circle\"}, \"mode\": \"markers\", \"name\": \"kmeans.labels_=5\", \"showlegend\": true, \"type\": \"scatter\", \"x\": [174.91622924804688, -189.47422790527344, 130.41232299804688], \"xaxis\": \"x\", \"y\": [-56.74858474731445, -91.4599380493164, -46.139808654785156], \"yaxis\": \"y\"}, {\"hoverlabel\": {\"namelength\": 0}, \"hovertemplate\": \"<b>%{hovertext}</b><br><br>kmeans.labels_=6<br>0=%{x}<br>1=%{y}\", \"hovertext\": [\"\", \"\", \"\", \"\"], \"legendgroup\": \"kmeans.labels_=6\", \"marker\": {\"color\": \"#00cc96\", \"symbol\": \"circle\"}, \"mode\": \"markers\", \"name\": \"kmeans.labels_=6\", \"showlegend\": true, \"type\": \"scatter\", \"x\": [141.72817993164062, 130.05970764160156, 181.87088012695312, 170.5255126953125], \"xaxis\": \"x\", \"y\": [-139.77052307128906, -178.1745147705078, -140.74072265625, -179.64842224121094], \"yaxis\": \"y\"}, {\"hoverlabel\": {\"namelength\": 0}, \"hovertemplate\": \"<b>%{hovertext}</b><br><br>kmeans.labels_=7<br>0=%{x}<br>1=%{y}\", \"hovertext\": [\"the reasons health care workers have declined are complicated\", \"africans don \\u2019 t like your human / animal experimentations\", \"she doesnt feel well\", \"masks aren \\u2019 t healthy\"], \"legendgroup\": \"kmeans.labels_=7\", \"marker\": {\"color\": \"#ab63fa\", \"symbol\": \"circle\"}, \"mode\": \"markers\", \"name\": \"kmeans.labels_=7\", \"showlegend\": true, \"type\": \"scatter\", \"x\": [-78.20428466796875, 44.95745849609375, -123.09898376464844, 140.62794494628906], \"xaxis\": \"x\", \"y\": [157.84068298339844, -130.62033081054688, -150.46461486816406, 6.9306511878967285], \"yaxis\": \"y\"}, {\"hoverlabel\": {\"namelength\": 0}, \"hovertemplate\": \"<b>%{hovertext}</b><br><br>kmeans.labels_=2<br>0=%{x}<br>1=%{y}\", \"hovertext\": [\"they are anti - vax , conspiracy theorists , or feel that the current vaccines are rushed and possibly dangerous\", \"they are labelled anti vaxers\", \"experimental vaccines imposed & amp ; those who have concerns being bullied\", \"experimental bio - warfare \\u2019 : melbourne anti - vax protesters\", \"support for brexit and being anti - covid vaccination both correlate with intelligence\", \"if a vaccine has side effects\", \"more fear , severe restrictions , vaccinations , deaths\", \"pfizer # covid19 # plandemic # vaccine # stopthemadness # openamerica # stand # unitedwestand\", \"south africa leads backlash against big pharma over covid vaccine access\", \"war on # covid19\", \"you may have a better chance of winning the power ball lottery\", \"regulator seeks local trial\"], \"legendgroup\": \"kmeans.labels_=2\", \"marker\": {\"color\": \"#FFA15A\", \"symbol\": \"circle\"}, \"mode\": \"markers\", \"name\": \"kmeans.labels_=2\", \"showlegend\": true, \"type\": \"scatter\", \"x\": [-84.8848648071289, 154.38458251953125, -126.17333984375, -156.00967407226562, -153.34530639648438, -100.27890014648438, -64.96571350097656, -112.09032440185547, -58.99799728393555, -139.99566650390625, -30.72202491760254, 80.60045623779297], \"xaxis\": \"x\", \"y\": [20.870874404907227, 139.1970977783203, 15.973969459533691, 54.56476593017578, -31.122745513916016, -22.653139114379883, 63.070499420166016, 56.89741516113281, -49.33645248413086, 112.68938446044922, -187.99520874023438, -86.45397186279297], \"yaxis\": \"y\"}, {\"hoverlabel\": {\"namelength\": 0}, \"hovertemplate\": \"<b>%{hovertext}</b><br><br>kmeans.labels_=3<br>0=%{x}<br>1=%{y}\", \"hovertext\": [\"the amount of anti - vax folks in the beginning of this pandemic and the scarcity of covid - 19\", \"a sore arm and a rash\", \"a virus . . . ? ? a pandemic\", \"get sick on purpose with something that hasn \\u2019 t been tested for a virus with a 99 . 9 % survival rate\", \"2 . 48 million people have died from the virus and not aware of any that have died from the vaccine\", \"the vaccine will massively death rates , covid numbers , hospital and icu admissions\", \"no one is getting tested\", \"it is unlikely to kill or severely impact me\", \"not like we ' re literally an at - risk group , particularly at risk because we ' re fucking invisible due to not being included in the groups properly\", \"massive death count\", \"i live in brazil where there are more than 200 million people here and less than 5 % is vaccinated\", \"i don \\u2019 t wear a mask , and am not going to get the vaccine\", \"my friend got the vaccine and was fucked up for weeks with all the symptoms of covid and more symptoms\", \"the death rate has not change in 3 year - they is no pandemic\", \"it was all a chinese conspiracy and my vax would give her the virus\"], \"legendgroup\": \"kmeans.labels_=3\", \"marker\": {\"color\": \"#19d3f3\", \"symbol\": \"circle\"}, \"mode\": \"markers\", \"name\": \"kmeans.labels_=3\", \"showlegend\": true, \"type\": \"scatter\", \"x\": [-29.602548599243164, -137.75721740722656, 5.800062656402588, 33.74352264404297, -17.25848388671875, -77.76593017578125, 92.66878509521484, 85.08271789550781, 147.0714111328125, 43.95088577270508, 17.686527252197266, 55.96821212768555, -106.4942398071289, -30.581012725830078, -56.3294677734375], \"xaxis\": \"x\", \"y\": [29.070724487304688, -104.61752319335938, 130.6592559814453, 101.15675354003906, 68.22132873535156, 103.01496124267578, -28.714157104492188, 141.97354125976562, 77.0728988647461, 170.70140075683594, 50.74031066894531, 14.23849105834961, -62.51803207397461, 107.56695556640625, -2.4792115688323975], \"yaxis\": \"y\"}, {\"hoverlabel\": {\"namelength\": 0}, \"hovertemplate\": \"<b>%{hovertext}</b><br><br>kmeans.labels_=4<br>0=%{x}<br>1=%{y}\", \"hovertext\": [\"2 florida women busted while dressed up as \\u201c grannies \\u201d\", \"2 florida women busted while dressed up as \\u201c grannies \\u201d\"], \"legendgroup\": \"kmeans.labels_=4\", \"marker\": {\"color\": \"#FF6692\", \"symbol\": \"circle\"}, \"mode\": \"markers\", \"name\": \"kmeans.labels_=4\", \"showlegend\": true, \"type\": \"scatter\", \"x\": [207.05307006835938, -199.7404327392578], \"xaxis\": \"x\", \"y\": [32.66217803955078, 133.86268615722656], \"yaxis\": \"y\"}, {\"hoverlabel\": {\"namelength\": 0}, \"hovertemplate\": \"<b>%{hovertext}</b><br><br>kmeans.labels_=0<br>0=%{x}<br>1=%{y}\", \"hovertext\": [\"i already have a perfectly fine immune system which actually also prevents a severe case of covid\", \"what do they know ? expect more # covidfear from # fakenews @ bbcnews to convince you that you will die without one\", \"i ' d prefer to miss the olympics\", \"i have an autoimmune disease that has been very stable for years now and i don \\u2019 t believe triggering an immune response would be a wise choice for me\", \"due to serve allergies and i ' m certainly not having anyone tell me i ' m selfish\"], \"legendgroup\": \"kmeans.labels_=0\", \"marker\": {\"color\": \"#B6E880\", \"symbol\": \"circle\"}, \"mode\": \"markers\", \"name\": \"kmeans.labels_=0\", \"showlegend\": true, \"type\": \"scatter\", \"x\": [92.92021942138672, 19.870561599731445, -18.208234786987305, 65.01335906982422, 97.1681137084961], \"xaxis\": \"x\", \"y\": [85.20771789550781, -176.03997802734375, 193.35186767578125, 67.35509490966797, 36.98373794555664], \"yaxis\": \"y\"}],\n",
       "                        {\"legend\": {\"tracegroupgap\": 0}, \"margin\": {\"t\": 60}, \"template\": {\"data\": {\"bar\": [{\"error_x\": {\"color\": \"#2a3f5f\"}, \"error_y\": {\"color\": \"#2a3f5f\"}, \"marker\": {\"line\": {\"color\": \"#E5ECF6\", \"width\": 0.5}}, \"type\": \"bar\"}], \"barpolar\": [{\"marker\": {\"line\": {\"color\": \"#E5ECF6\", \"width\": 0.5}}, \"type\": \"barpolar\"}], \"carpet\": [{\"aaxis\": {\"endlinecolor\": \"#2a3f5f\", \"gridcolor\": \"white\", \"linecolor\": \"white\", \"minorgridcolor\": \"white\", \"startlinecolor\": \"#2a3f5f\"}, \"baxis\": {\"endlinecolor\": \"#2a3f5f\", \"gridcolor\": \"white\", \"linecolor\": \"white\", \"minorgridcolor\": \"white\", \"startlinecolor\": \"#2a3f5f\"}, \"type\": \"carpet\"}], \"choropleth\": [{\"colorbar\": {\"outlinewidth\": 0, \"ticks\": \"\"}, \"type\": \"choropleth\"}], \"contour\": [{\"colorbar\": {\"outlinewidth\": 0, \"ticks\": \"\"}, \"colorscale\": [[0.0, \"#0d0887\"], [0.1111111111111111, \"#46039f\"], [0.2222222222222222, \"#7201a8\"], [0.3333333333333333, \"#9c179e\"], [0.4444444444444444, \"#bd3786\"], [0.5555555555555556, \"#d8576b\"], [0.6666666666666666, \"#ed7953\"], [0.7777777777777778, \"#fb9f3a\"], [0.8888888888888888, \"#fdca26\"], [1.0, \"#f0f921\"]], \"type\": \"contour\"}], \"contourcarpet\": [{\"colorbar\": {\"outlinewidth\": 0, \"ticks\": \"\"}, \"type\": \"contourcarpet\"}], \"heatmap\": [{\"colorbar\": {\"outlinewidth\": 0, \"ticks\": \"\"}, \"colorscale\": [[0.0, \"#0d0887\"], [0.1111111111111111, \"#46039f\"], [0.2222222222222222, \"#7201a8\"], [0.3333333333333333, \"#9c179e\"], [0.4444444444444444, \"#bd3786\"], [0.5555555555555556, \"#d8576b\"], [0.6666666666666666, \"#ed7953\"], [0.7777777777777778, \"#fb9f3a\"], [0.8888888888888888, \"#fdca26\"], [1.0, \"#f0f921\"]], \"type\": \"heatmap\"}], \"heatmapgl\": [{\"colorbar\": {\"outlinewidth\": 0, \"ticks\": \"\"}, \"colorscale\": [[0.0, \"#0d0887\"], [0.1111111111111111, \"#46039f\"], [0.2222222222222222, \"#7201a8\"], [0.3333333333333333, \"#9c179e\"], [0.4444444444444444, \"#bd3786\"], [0.5555555555555556, \"#d8576b\"], [0.6666666666666666, \"#ed7953\"], [0.7777777777777778, \"#fb9f3a\"], [0.8888888888888888, \"#fdca26\"], [1.0, \"#f0f921\"]], \"type\": \"heatmapgl\"}], \"histogram\": [{\"marker\": {\"colorbar\": {\"outlinewidth\": 0, \"ticks\": \"\"}}, \"type\": \"histogram\"}], \"histogram2d\": [{\"colorbar\": {\"outlinewidth\": 0, \"ticks\": \"\"}, \"colorscale\": [[0.0, \"#0d0887\"], [0.1111111111111111, \"#46039f\"], [0.2222222222222222, \"#7201a8\"], [0.3333333333333333, \"#9c179e\"], [0.4444444444444444, \"#bd3786\"], [0.5555555555555556, \"#d8576b\"], [0.6666666666666666, \"#ed7953\"], [0.7777777777777778, \"#fb9f3a\"], [0.8888888888888888, \"#fdca26\"], [1.0, \"#f0f921\"]], \"type\": \"histogram2d\"}], \"histogram2dcontour\": [{\"colorbar\": {\"outlinewidth\": 0, \"ticks\": \"\"}, \"colorscale\": [[0.0, \"#0d0887\"], [0.1111111111111111, \"#46039f\"], [0.2222222222222222, \"#7201a8\"], [0.3333333333333333, \"#9c179e\"], [0.4444444444444444, \"#bd3786\"], [0.5555555555555556, \"#d8576b\"], [0.6666666666666666, \"#ed7953\"], [0.7777777777777778, \"#fb9f3a\"], [0.8888888888888888, \"#fdca26\"], [1.0, \"#f0f921\"]], \"type\": \"histogram2dcontour\"}], \"mesh3d\": [{\"colorbar\": {\"outlinewidth\": 0, \"ticks\": \"\"}, \"type\": \"mesh3d\"}], \"parcoords\": [{\"line\": {\"colorbar\": {\"outlinewidth\": 0, \"ticks\": \"\"}}, \"type\": \"parcoords\"}], \"pie\": [{\"automargin\": true, \"type\": \"pie\"}], \"scatter\": [{\"marker\": {\"colorbar\": {\"outlinewidth\": 0, \"ticks\": \"\"}}, \"type\": \"scatter\"}], \"scatter3d\": [{\"line\": {\"colorbar\": {\"outlinewidth\": 0, \"ticks\": \"\"}}, \"marker\": {\"colorbar\": {\"outlinewidth\": 0, \"ticks\": \"\"}}, \"type\": \"scatter3d\"}], \"scattercarpet\": [{\"marker\": {\"colorbar\": {\"outlinewidth\": 0, \"ticks\": \"\"}}, \"type\": \"scattercarpet\"}], \"scattergeo\": [{\"marker\": {\"colorbar\": {\"outlinewidth\": 0, \"ticks\": \"\"}}, \"type\": \"scattergeo\"}], \"scattergl\": [{\"marker\": {\"colorbar\": {\"outlinewidth\": 0, \"ticks\": \"\"}}, \"type\": \"scattergl\"}], \"scattermapbox\": [{\"marker\": {\"colorbar\": {\"outlinewidth\": 0, \"ticks\": \"\"}}, \"type\": \"scattermapbox\"}], \"scatterpolar\": [{\"marker\": {\"colorbar\": {\"outlinewidth\": 0, \"ticks\": \"\"}}, \"type\": \"scatterpolar\"}], \"scatterpolargl\": [{\"marker\": {\"colorbar\": {\"outlinewidth\": 0, \"ticks\": \"\"}}, \"type\": \"scatterpolargl\"}], \"scatterternary\": [{\"marker\": {\"colorbar\": {\"outlinewidth\": 0, \"ticks\": \"\"}}, \"type\": \"scatterternary\"}], \"surface\": [{\"colorbar\": {\"outlinewidth\": 0, \"ticks\": \"\"}, \"colorscale\": [[0.0, \"#0d0887\"], [0.1111111111111111, \"#46039f\"], [0.2222222222222222, \"#7201a8\"], [0.3333333333333333, \"#9c179e\"], [0.4444444444444444, \"#bd3786\"], [0.5555555555555556, \"#d8576b\"], [0.6666666666666666, \"#ed7953\"], [0.7777777777777778, \"#fb9f3a\"], [0.8888888888888888, \"#fdca26\"], [1.0, \"#f0f921\"]], \"type\": \"surface\"}], \"table\": [{\"cells\": {\"fill\": {\"color\": \"#EBF0F8\"}, \"line\": {\"color\": \"white\"}}, \"header\": {\"fill\": {\"color\": \"#C8D4E3\"}, \"line\": {\"color\": \"white\"}}, \"type\": \"table\"}]}, \"layout\": {\"annotationdefaults\": {\"arrowcolor\": \"#2a3f5f\", \"arrowhead\": 0, \"arrowwidth\": 1}, \"coloraxis\": {\"colorbar\": {\"outlinewidth\": 0, \"ticks\": \"\"}}, \"colorscale\": {\"diverging\": [[0, \"#8e0152\"], [0.1, \"#c51b7d\"], [0.2, \"#de77ae\"], [0.3, \"#f1b6da\"], [0.4, \"#fde0ef\"], [0.5, \"#f7f7f7\"], [0.6, \"#e6f5d0\"], [0.7, \"#b8e186\"], [0.8, \"#7fbc41\"], [0.9, \"#4d9221\"], [1, \"#276419\"]], \"sequential\": [[0.0, \"#0d0887\"], [0.1111111111111111, \"#46039f\"], [0.2222222222222222, \"#7201a8\"], [0.3333333333333333, \"#9c179e\"], [0.4444444444444444, \"#bd3786\"], [0.5555555555555556, \"#d8576b\"], [0.6666666666666666, \"#ed7953\"], [0.7777777777777778, \"#fb9f3a\"], [0.8888888888888888, \"#fdca26\"], [1.0, \"#f0f921\"]], \"sequentialminus\": [[0.0, \"#0d0887\"], [0.1111111111111111, \"#46039f\"], [0.2222222222222222, \"#7201a8\"], [0.3333333333333333, \"#9c179e\"], [0.4444444444444444, \"#bd3786\"], [0.5555555555555556, \"#d8576b\"], [0.6666666666666666, \"#ed7953\"], [0.7777777777777778, \"#fb9f3a\"], [0.8888888888888888, \"#fdca26\"], [1.0, \"#f0f921\"]]}, \"colorway\": [\"#636efa\", \"#EF553B\", \"#00cc96\", \"#ab63fa\", \"#FFA15A\", \"#19d3f3\", \"#FF6692\", \"#B6E880\", \"#FF97FF\", \"#FECB52\"], \"font\": {\"color\": \"#2a3f5f\"}, \"geo\": {\"bgcolor\": \"white\", \"lakecolor\": \"white\", \"landcolor\": \"#E5ECF6\", \"showlakes\": true, \"showland\": true, \"subunitcolor\": \"white\"}, \"hoverlabel\": {\"align\": \"left\"}, \"hovermode\": \"closest\", \"mapbox\": {\"style\": \"light\"}, \"paper_bgcolor\": \"white\", \"plot_bgcolor\": \"#E5ECF6\", \"polar\": {\"angularaxis\": {\"gridcolor\": \"white\", \"linecolor\": \"white\", \"ticks\": \"\"}, \"bgcolor\": \"#E5ECF6\", \"radialaxis\": {\"gridcolor\": \"white\", \"linecolor\": \"white\", \"ticks\": \"\"}}, \"scene\": {\"xaxis\": {\"backgroundcolor\": \"#E5ECF6\", \"gridcolor\": \"white\", \"gridwidth\": 2, \"linecolor\": \"white\", \"showbackground\": true, \"ticks\": \"\", \"zerolinecolor\": \"white\"}, \"yaxis\": {\"backgroundcolor\": \"#E5ECF6\", \"gridcolor\": \"white\", \"gridwidth\": 2, \"linecolor\": \"white\", \"showbackground\": true, \"ticks\": \"\", \"zerolinecolor\": \"white\"}, \"zaxis\": {\"backgroundcolor\": \"#E5ECF6\", \"gridcolor\": \"white\", \"gridwidth\": 2, \"linecolor\": \"white\", \"showbackground\": true, \"ticks\": \"\", \"zerolinecolor\": \"white\"}}, \"shapedefaults\": {\"line\": {\"color\": \"#2a3f5f\"}}, \"ternary\": {\"aaxis\": {\"gridcolor\": \"white\", \"linecolor\": \"white\", \"ticks\": \"\"}, \"baxis\": {\"gridcolor\": \"white\", \"linecolor\": \"white\", \"ticks\": \"\"}, \"bgcolor\": \"#E5ECF6\", \"caxis\": {\"gridcolor\": \"white\", \"linecolor\": \"white\", \"ticks\": \"\"}}, \"title\": {\"x\": 0.05}, \"xaxis\": {\"automargin\": true, \"gridcolor\": \"white\", \"linecolor\": \"white\", \"ticks\": \"\", \"title\": {\"standoff\": 15}, \"zerolinecolor\": \"white\", \"zerolinewidth\": 2}, \"yaxis\": {\"automargin\": true, \"gridcolor\": \"white\", \"linecolor\": \"white\", \"ticks\": \"\", \"title\": {\"standoff\": 15}, \"zerolinecolor\": \"white\", \"zerolinewidth\": 2}}}, \"xaxis\": {\"anchor\": \"y\", \"domain\": [0.0, 1.0], \"title\": {\"text\": \"0\"}}, \"yaxis\": {\"anchor\": \"x\", \"domain\": [0.0, 1.0], \"title\": {\"text\": \"1\"}}},\n",
       "                        {\"responsive\": true}\n",
       "                    ).then(function(){\n",
       "                            \n",
       "var gd = document.getElementById('dc62a1b5-a2e8-45d7-a857-ab00d1856d6c');\n",
       "var x = new MutationObserver(function (mutations, observer) {{\n",
       "        var display = window.getComputedStyle(gd).display;\n",
       "        if (!display || display === 'none') {{\n",
       "            console.log([gd, 'removed!']);\n",
       "            Plotly.purge(gd);\n",
       "            observer.disconnect();\n",
       "        }}\n",
       "}});\n",
       "\n",
       "// Listen for the removal of the full notebook cells\n",
       "var notebookContainer = gd.closest('#notebook-container');\n",
       "if (notebookContainer) {{\n",
       "    x.observe(notebookContainer, {childList: true});\n",
       "}}\n",
       "\n",
       "// Listen for the clearing of the current output cell\n",
       "var outputEl = gd.closest('.output');\n",
       "if (outputEl) {{\n",
       "    x.observe(outputEl, {childList: true});\n",
       "}}\n",
       "\n",
       "                        })\n",
       "                };\n",
       "                \n",
       "            </script>\n",
       "        </div>\n",
       "</body>\n",
       "</html>"
      ]
     },
     "metadata": {
      "tags": []
     },
     "output_type": "display_data"
    }
   ],
   "source": [
    "tsnescatterplot(answers)"
   ]
  },
  {
   "cell_type": "markdown",
   "metadata": {
    "id": "kwjdfKNb7_S8"
   },
   "source": [
    "# It looks like the overall approach and the large pre-trained transformer models allow for sematically clustering anti-vaccine reasons on the sentence level. Check out the green cluster (0), light blue (3) and the dark orange cluster (5). Sentences from 0 seens to be talking about immune system, and sentences from 5 are about integrity/ineligiblity/inaccuracies, while those from 3 are generally related to the concept of getting ill/death. Download the html at https://github.com/shuanglovesdata/Mar21-vaccine-uptake/blob/sc/Clustering-Plot.html and open locally to see or interact with the plot.\n",
    "\n",
    "# Once this workflow is scaled up to thousands of tweets/texts, the clustering will become much more salient and allow the user/partner organization to semantically explore the text media landscape by literally \"asking\" any questions on the text data through the models."
   ]
  },
  {
   "cell_type": "code",
   "execution_count": null,
   "metadata": {
    "id": "S4wwpg4djvqj"
   },
   "outputs": [],
   "source": []
  },
  {
   "cell_type": "code",
   "execution_count": null,
   "metadata": {
    "id": "7JDloJc2jvmp"
   },
   "outputs": [],
   "source": []
  },
  {
   "cell_type": "code",
   "execution_count": null,
   "metadata": {
    "id": "Gg28CjS6jvh4"
   },
   "outputs": [],
   "source": []
  },
  {
   "cell_type": "code",
   "execution_count": null,
   "metadata": {
    "id": "TEjLQi1Zjvbo"
   },
   "outputs": [],
   "source": []
  },
  {
   "cell_type": "code",
   "execution_count": null,
   "metadata": {
    "id": "jF7h3iFnjvSF"
   },
   "outputs": [],
   "source": []
  }
 ],
 "metadata": {
  "accelerator": "GPU",
  "colab": {
   "collapsed_sections": [],
   "name": "DataDive 2021 Anti-Vaccine Tweets Analysis.ipynb",
   "provenance": [],
   "toc_visible": true
  },
  "kernelspec": {
   "display_name": "Python [conda env:tf]",
   "language": "python",
   "name": "conda-env-tf-py"
  },
  "language_info": {
   "codemirror_mode": {
    "name": "ipython",
    "version": 3
   },
   "file_extension": ".py",
   "mimetype": "text/x-python",
   "name": "python",
   "nbconvert_exporter": "python",
   "pygments_lexer": "ipython3",
   "version": "3.8.8"
  }
 },
 "nbformat": 4,
 "nbformat_minor": 1
}
