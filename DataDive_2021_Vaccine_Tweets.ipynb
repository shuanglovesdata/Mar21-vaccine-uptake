{
  "nbformat": 4,
  "nbformat_minor": 0,
  "metadata": {
    "kernelspec": {
      "display_name": "Python [conda env:tf]",
      "language": "python",
      "name": "conda-env-tf-py"
    },
    "language_info": {
      "codemirror_mode": {
        "name": "ipython",
        "version": 3
      },
      "file_extension": ".py",
      "mimetype": "text/x-python",
      "name": "python",
      "nbconvert_exporter": "python",
      "pygments_lexer": "ipython3",
      "version": "3.8.8"
    },
    "colab": {
      "name": "DataDive 2021 Vaccine Tweets Analysis.ipynb",
      "provenance": [],
      "toc_visible": true,
      "include_colab_link": true
    },
    "accelerator": "GPU"
  },
  "cells": [
    {
      "cell_type": "markdown",
      "metadata": {
        "id": "view-in-github",
        "colab_type": "text"
      },
      "source": [
        "<a href=\"https://colab.research.google.com/github/shuanglovesdata/Mar21-vaccine-uptake/blob/sc/DataDive_2021_Vaccine_Tweets.ipynb\" target=\"_parent\"><img src=\"https://colab.research.google.com/assets/colab-badge.svg\" alt=\"Open In Colab\"/></a>"
      ]
    },
    {
      "cell_type": "code",
      "metadata": {
        "colab": {
          "base_uri": "https://localhost:8080/"
        },
        "id": "5B_87VhB1vXU",
        "outputId": "56a56e61-5ecd-476b-bd5c-3f9c2cef8d36"
      },
      "source": [
        "!pip install transformers==3.1.0"
      ],
      "execution_count": 2,
      "outputs": [
        {
          "output_type": "stream",
          "text": [
            "Collecting transformers==3.1.0\n",
            "\u001b[?25l  Downloading https://files.pythonhosted.org/packages/ae/05/c8c55b600308dc04e95100dc8ad8a244dd800fe75dfafcf1d6348c6f6209/transformers-3.1.0-py3-none-any.whl (884kB)\n",
            "\u001b[K     |████████████████████████████████| 890kB 18.4MB/s \n",
            "\u001b[?25hCollecting tokenizers==0.8.1.rc2\n",
            "\u001b[?25l  Downloading https://files.pythonhosted.org/packages/75/26/c02ba92ecb8b780bdae4a862d351433c2912fe49469dac7f87a5c85ccca6/tokenizers-0.8.1rc2-cp37-cp37m-manylinux1_x86_64.whl (3.0MB)\n",
            "\u001b[K     |████████████████████████████████| 3.0MB 48.6MB/s \n",
            "\u001b[?25hRequirement already satisfied: filelock in /usr/local/lib/python3.7/dist-packages (from transformers==3.1.0) (3.0.12)\n",
            "Collecting sacremoses\n",
            "\u001b[?25l  Downloading https://files.pythonhosted.org/packages/7d/34/09d19aff26edcc8eb2a01bed8e98f13a1537005d31e95233fd48216eed10/sacremoses-0.0.43.tar.gz (883kB)\n",
            "\u001b[K     |████████████████████████████████| 890kB 55.5MB/s \n",
            "\u001b[?25hRequirement already satisfied: packaging in /usr/local/lib/python3.7/dist-packages (from transformers==3.1.0) (20.9)\n",
            "Requirement already satisfied: requests in /usr/local/lib/python3.7/dist-packages (from transformers==3.1.0) (2.23.0)\n",
            "Requirement already satisfied: regex!=2019.12.17 in /usr/local/lib/python3.7/dist-packages (from transformers==3.1.0) (2019.12.20)\n",
            "Collecting sentencepiece!=0.1.92\n",
            "\u001b[?25l  Downloading https://files.pythonhosted.org/packages/f5/99/e0808cb947ba10f575839c43e8fafc9cc44e4a7a2c8f79c60db48220a577/sentencepiece-0.1.95-cp37-cp37m-manylinux2014_x86_64.whl (1.2MB)\n",
            "\u001b[K     |████████████████████████████████| 1.2MB 43.9MB/s \n",
            "\u001b[?25hRequirement already satisfied: tqdm>=4.27 in /usr/local/lib/python3.7/dist-packages (from transformers==3.1.0) (4.41.1)\n",
            "Requirement already satisfied: numpy in /usr/local/lib/python3.7/dist-packages (from transformers==3.1.0) (1.19.5)\n",
            "Requirement already satisfied: six in /usr/local/lib/python3.7/dist-packages (from sacremoses->transformers==3.1.0) (1.15.0)\n",
            "Requirement already satisfied: click in /usr/local/lib/python3.7/dist-packages (from sacremoses->transformers==3.1.0) (7.1.2)\n",
            "Requirement already satisfied: joblib in /usr/local/lib/python3.7/dist-packages (from sacremoses->transformers==3.1.0) (1.0.1)\n",
            "Requirement already satisfied: pyparsing>=2.0.2 in /usr/local/lib/python3.7/dist-packages (from packaging->transformers==3.1.0) (2.4.7)\n",
            "Requirement already satisfied: urllib3!=1.25.0,!=1.25.1,<1.26,>=1.21.1 in /usr/local/lib/python3.7/dist-packages (from requests->transformers==3.1.0) (1.24.3)\n",
            "Requirement already satisfied: certifi>=2017.4.17 in /usr/local/lib/python3.7/dist-packages (from requests->transformers==3.1.0) (2020.12.5)\n",
            "Requirement already satisfied: idna<3,>=2.5 in /usr/local/lib/python3.7/dist-packages (from requests->transformers==3.1.0) (2.10)\n",
            "Requirement already satisfied: chardet<4,>=3.0.2 in /usr/local/lib/python3.7/dist-packages (from requests->transformers==3.1.0) (3.0.4)\n",
            "Building wheels for collected packages: sacremoses\n",
            "  Building wheel for sacremoses (setup.py) ... \u001b[?25l\u001b[?25hdone\n",
            "  Created wheel for sacremoses: filename=sacremoses-0.0.43-cp37-none-any.whl size=893262 sha256=c0e4f39bb796f80bfef87bc38a28eb3d183716b5647cdb7321a67e6cd527fd93\n",
            "  Stored in directory: /root/.cache/pip/wheels/29/3c/fd/7ce5c3f0666dab31a50123635e6fb5e19ceb42ce38d4e58f45\n",
            "Successfully built sacremoses\n",
            "Installing collected packages: tokenizers, sacremoses, sentencepiece, transformers\n",
            "Successfully installed sacremoses-0.0.43 sentencepiece-0.1.95 tokenizers-0.8.1rc2 transformers-3.1.0\n"
          ],
          "name": "stdout"
        }
      ]
    },
    {
      "cell_type": "code",
      "metadata": {
        "id": "hE_s8TE11V-r"
      },
      "source": [
        "from transformers import pipeline\n",
        "import pandas as pd\n",
        "\n",
        "#classifier = pipeline(\"zero-shot-classification\")\n",
        "\n",
        "#classifier = pipeline(\"zero-shot-classification\", device=0) # to utilize GPU"
      ],
      "execution_count": 1,
      "outputs": []
    },
    {
      "cell_type": "markdown",
      "metadata": {
        "id": "sNUzoOTJ1V-8"
      },
      "source": [
        "# Load in more Tweets"
      ]
    },
    {
      "cell_type": "code",
      "metadata": {
        "id": "S5rlKXGJ1V-8"
      },
      "source": [
        "TweetsDF=pd.read_csv( 'twitter_data_cleaned.csv')\n",
        "TweetsDF=TweetsDF.drop_duplicates(subset=['full_text'])\n",
        "VaccTweetsDF=TweetsDF[TweetsDF['full_text'].str.lower().str.contains(\"vac\")]\n",
        "sampledSequences=VaccTweetsDF.full_text.tolist()"
      ],
      "execution_count": 26,
      "outputs": []
    },
    {
      "cell_type": "code",
      "metadata": {
        "colab": {
          "base_uri": "https://localhost:8080/"
        },
        "id": "W1OGqOb2AlGU",
        "outputId": "e34c318f-6130-45a4-9b97-83471c0fbe6a"
      },
      "source": [
        "len(sampledSequences)"
      ],
      "execution_count": 27,
      "outputs": [
        {
          "output_type": "execute_result",
          "data": {
            "text/plain": [
              "31454"
            ]
          },
          "metadata": {
            "tags": []
          },
          "execution_count": 27
        }
      ]
    },
    {
      "cell_type": "code",
      "metadata": {
        "id": "AEljEGif1V-_"
      },
      "source": [
        "%%time\n",
        "\n",
        "sequences=sampledSequences[1001:1180]\n",
        "\n",
        "candidate_labels = [\"want\", \"don't want\"]\n",
        "hypothesis_template = \"{} to get the Covid vaccine.\"\n",
        "\n",
        "outputs=classifier(sequences, candidate_labels, hypothesis_template=hypothesis_template)#, multi_class=True)\n",
        "\n",
        "outputDF=pd.DataFrame(outputs)\n",
        "ExportDF=outputDF.set_index('sequence').apply(pd.Series.explode).reset_index()"
      ],
      "execution_count": null,
      "outputs": []
    },
    {
      "cell_type": "code",
      "metadata": {
        "id": "V6mddI6MrALf",
        "outputId": "76b33e33-c076-4ca6-aa13-705fde2e6ee3",
        "colab": {
          "base_uri": "https://localhost:8080/"
        }
      },
      "source": [
        "# pose sequence as a NLI premise and label as a hypothesis\r\n",
        "from transformers import AutoModelForSequenceClassification, AutoTokenizer\r\n",
        "nli_model = AutoModelForSequenceClassification.from_pretrained('joeddav/xlm-roberta-large-xnli')\r\n",
        "tokenizer = AutoTokenizer.from_pretrained('joeddav/xlm-roberta-large-xnli')\r\n",
        "\r\n",
        "sequence='People have stated that they will never take the vaccine, either because they are anti-vax, conspiracy theorists, or feel that the current vaccines are rushed and possibly dangerous',\r\n",
        "\r\n",
        "premise = sequence\r\n",
        "label = [\"positive\"]\r\n",
        "hypothesis = f'This example is {label}.'\r\n",
        "\r\n",
        "# run through model pre-trained on MNLI\r\n",
        "x = tokenizer.encode(premise, hypothesis, return_tensors='pt',\r\n",
        "                     truncation_strategy='only_first')\r\n",
        "logits = nli_model(x)[0]\r\n",
        "\r\n",
        "# we throw away \"neutral\" (dim 1) and take the probability of\r\n",
        "# \"entailment\" (2) as the probability of the label being true \r\n",
        "entail_contradiction_logits = logits[:,[0,2]]\r\n",
        "probs = entail_contradiction_logits.softmax(dim=1)\r\n",
        "prob_label_is_true = probs[:,1]"
      ],
      "execution_count": 9,
      "outputs": [
        {
          "output_type": "stream",
          "text": [
            "/usr/local/lib/python3.7/dist-packages/transformers/tokenization_utils_base.py:1796: FutureWarning: The `truncation_strategy` argument is deprecated and will be removed in a future version, use `truncation=True` to truncate examples to a max length. You can give a specific length with `max_length` (e.g. `max_length=45`) or leave max_length to None to truncate to the maximal input size of the model (e.g. 512 for Bert).  If you have pairs of inputs, you can give a specific truncation strategy selected among `truncation='only_first'` (will only truncate the first sentence in the pairs) `truncation='only_second'` (will only truncate the second sentence in the pairs) or `truncation='longest_first'` (will iteratively remove tokens from the longest sentence in the pairs).\n",
            "  FutureWarning,\n"
          ],
          "name": "stderr"
        }
      ]
    },
    {
      "cell_type": "code",
      "metadata": {
        "id": "MNKW0IfiX0YT",
        "outputId": "071d5d5c-b191-493a-f5a5-9e7985441d3f",
        "colab": {
          "base_uri": "https://localhost:8080/",
          "height": 35
        }
      },
      "source": [
        "hypothesis"
      ],
      "execution_count": 8,
      "outputs": [
        {
          "output_type": "execute_result",
          "data": {
            "application/vnd.google.colaboratory.intrinsic+json": {
              "type": "string"
            },
            "text/plain": [
              "\"This example is ['positive', 'negative'].\""
            ]
          },
          "metadata": {
            "tags": []
          },
          "execution_count": 8
        }
      ]
    },
    {
      "cell_type": "code",
      "metadata": {
        "id": "_wrKE2_RXlXH",
        "outputId": "f1a7a38b-0442-48b5-f586-fb3cefe1a2f4",
        "colab": {
          "base_uri": "https://localhost:8080/"
        }
      },
      "source": [
        "logits"
      ],
      "execution_count": 5,
      "outputs": [
        {
          "output_type": "execute_result",
          "data": {
            "text/plain": [
              "tensor([[-0.5448,  0.1261,  0.2942]], grad_fn=<AddmmBackward>)"
            ]
          },
          "metadata": {
            "tags": []
          },
          "execution_count": 5
        }
      ]
    },
    {
      "cell_type": "code",
      "metadata": {
        "id": "kHIyuOaZXr6M",
        "outputId": "2ae3a024-dbd0-4c6c-d37b-e22e002db9ca",
        "colab": {
          "base_uri": "https://localhost:8080/"
        }
      },
      "source": [
        "entail_contradiction_logits"
      ],
      "execution_count": 6,
      "outputs": [
        {
          "output_type": "execute_result",
          "data": {
            "text/plain": [
              "tensor([[-0.5448,  0.2942]], grad_fn=<IndexBackward>)"
            ]
          },
          "metadata": {
            "tags": []
          },
          "execution_count": 6
        }
      ]
    },
    {
      "cell_type": "code",
      "metadata": {
        "id": "4bmceE-wXw9P",
        "outputId": "1be38ac3-f6d1-4916-cfda-a5a6ce1f0150",
        "colab": {
          "base_uri": "https://localhost:8080/"
        }
      },
      "source": [
        "probs"
      ],
      "execution_count": 7,
      "outputs": [
        {
          "output_type": "execute_result",
          "data": {
            "text/plain": [
              "tensor([[0.3017, 0.6983]], grad_fn=<SoftmaxBackward>)"
            ]
          },
          "metadata": {
            "tags": []
          },
          "execution_count": 7
        }
      ]
    },
    {
      "cell_type": "code",
      "metadata": {
        "id": "YbSGbWvdt65_",
        "outputId": "d1e678b4-c577-4c66-cd95-3b382540cf64",
        "colab": {
          "base_uri": "https://localhost:8080/"
        }
      },
      "source": [
        "prob_label_is_true"
      ],
      "execution_count": 4,
      "outputs": [
        {
          "output_type": "execute_result",
          "data": {
            "text/plain": [
              "tensor([0.6983], grad_fn=<SelectBackward>)"
            ]
          },
          "metadata": {
            "tags": []
          },
          "execution_count": 4
        }
      ]
    },
    {
      "cell_type": "code",
      "metadata": {
        "id": "hxFf9T7Bt6t6"
      },
      "source": [
        ""
      ],
      "execution_count": null,
      "outputs": []
    },
    {
      "cell_type": "code",
      "metadata": {
        "id": "rwBkjwDvt6fH"
      },
      "source": [
        ""
      ],
      "execution_count": null,
      "outputs": []
    },
    {
      "cell_type": "code",
      "metadata": {
        "id": "qDvAgLdA1V_B"
      },
      "source": [
        "#ExportDF.to_csv('VaccTweets_Label_1001_1250.csv')"
      ],
      "execution_count": 6,
      "outputs": []
    },
    {
      "cell_type": "code",
      "metadata": {
        "id": "ExfmAzpVPAr8"
      },
      "source": [
        "import glob\r\n",
        "\r\n",
        "path = '/content/Labelled' # use your path\r\n",
        "all_files = glob.glob( path+ \"/*.csv\")\r\n",
        "\r\n",
        "li = []\r\n",
        "\r\n",
        "for filename in all_files:\r\n",
        "    df = pd.read_csv(filename, index_col=None, header=0)\r\n",
        "    li.append(df)\r\n",
        "\r\n",
        "LabelledDF = pd.concat(li, axis=0, ignore_index=True)"
      ],
      "execution_count": 16,
      "outputs": []
    },
    {
      "cell_type": "code",
      "metadata": {
        "id": "M--wTlYoPvI1",
        "outputId": "a3a357cb-ab98-49d6-8d09-7355d04345af",
        "colab": {
          "base_uri": "https://localhost:8080/",
          "height": 204
        }
      },
      "source": [
        "LabelledDF.head()"
      ],
      "execution_count": 19,
      "outputs": [
        {
          "output_type": "execute_result",
          "data": {
            "text/html": [
              "<div>\n",
              "<style scoped>\n",
              "    .dataframe tbody tr th:only-of-type {\n",
              "        vertical-align: middle;\n",
              "    }\n",
              "\n",
              "    .dataframe tbody tr th {\n",
              "        vertical-align: top;\n",
              "    }\n",
              "\n",
              "    .dataframe thead th {\n",
              "        text-align: right;\n",
              "    }\n",
              "</style>\n",
              "<table border=\"1\" class=\"dataframe\">\n",
              "  <thead>\n",
              "    <tr style=\"text-align: right;\">\n",
              "      <th></th>\n",
              "      <th>Unnamed: 0</th>\n",
              "      <th>sequence</th>\n",
              "      <th>labels</th>\n",
              "      <th>scores</th>\n",
              "    </tr>\n",
              "  </thead>\n",
              "  <tbody>\n",
              "    <tr>\n",
              "      <th>0</th>\n",
              "      <td>0</td>\n",
              "      <td>Please reply to this tweet if you want to shar...</td>\n",
              "      <td>want</td>\n",
              "      <td>0.987453</td>\n",
              "    </tr>\n",
              "    <tr>\n",
              "      <th>1</th>\n",
              "      <td>1</td>\n",
              "      <td>Please reply to this tweet if you want to shar...</td>\n",
              "      <td>don't want</td>\n",
              "      <td>0.012547</td>\n",
              "    </tr>\n",
              "    <tr>\n",
              "      <th>2</th>\n",
              "      <td>2</td>\n",
              "      <td>Gov. Ron DeSantis giving his rich friends the ...</td>\n",
              "      <td>want</td>\n",
              "      <td>0.980986</td>\n",
              "    </tr>\n",
              "    <tr>\n",
              "      <th>3</th>\n",
              "      <td>3</td>\n",
              "      <td>Gov. Ron DeSantis giving his rich friends the ...</td>\n",
              "      <td>don't want</td>\n",
              "      <td>0.019014</td>\n",
              "    </tr>\n",
              "    <tr>\n",
              "      <th>4</th>\n",
              "      <td>4</td>\n",
              "      <td>TRIPLE WORRISOME—Data says the new variant tha...</td>\n",
              "      <td>don't want</td>\n",
              "      <td>0.527854</td>\n",
              "    </tr>\n",
              "  </tbody>\n",
              "</table>\n",
              "</div>"
            ],
            "text/plain": [
              "   Unnamed: 0  ...    scores\n",
              "0           0  ...  0.987453\n",
              "1           1  ...  0.012547\n",
              "2           2  ...  0.980986\n",
              "3           3  ...  0.019014\n",
              "4           4  ...  0.527854\n",
              "\n",
              "[5 rows x 4 columns]"
            ]
          },
          "metadata": {
            "tags": []
          },
          "execution_count": 19
        }
      ]
    },
    {
      "cell_type": "code",
      "metadata": {
        "id": "Fs-fsSslO_ew",
        "outputId": "e90c95de-6968-42ce-df29-1cbc279e0de7",
        "colab": {
          "base_uri": "https://localhost:8080/"
        }
      },
      "source": [
        "LabelledDF[(LabelledDF.labels==\"don't want\") & (LabelledDF.scores>0.5)].shape"
      ],
      "execution_count": 21,
      "outputs": [
        {
          "output_type": "execute_result",
          "data": {
            "text/plain": [
              "(108, 4)"
            ]
          },
          "metadata": {
            "tags": []
          },
          "execution_count": 21
        }
      ]
    },
    {
      "cell_type": "code",
      "metadata": {
        "id": "cnD9sDOiRKgv"
      },
      "source": [
        "antVacc_Tweets=LabelledDF[(LabelledDF.labels==\"don't want\") & (LabelledDF.scores>0.5)]"
      ],
      "execution_count": 22,
      "outputs": []
    },
    {
      "cell_type": "code",
      "metadata": {
        "id": "ZORt7GkEWefP"
      },
      "source": [
        "antVacc_Tweets=antVacc_Tweets[['sequence','labels','scores']].merge(VaccTweetsDF,  left_on='sequence', right_on='full_text')"
      ],
      "execution_count": 31,
      "outputs": []
    },
    {
      "cell_type": "code",
      "metadata": {
        "id": "2l5SCUKIaJF7"
      },
      "source": [
        "T_USER_DF=pd.read_csv('twitter_user.csv')"
      ],
      "execution_count": 34,
      "outputs": []
    },
    {
      "cell_type": "code",
      "metadata": {
        "id": "87VO8Sy8aZo0"
      },
      "source": [
        "antVacc_Tweets=antVacc_Tweets.merge(T_USER_DF,  how='left', on='user_id')"
      ],
      "execution_count": 48,
      "outputs": []
    },
    {
      "cell_type": "code",
      "metadata": {
        "id": "mo-yRnqbRK4u"
      },
      "source": [
        "antVacc_Tweets.to_csv('antVacc_Tweets.csv', index=False)"
      ],
      "execution_count": null,
      "outputs": []
    },
    {
      "cell_type": "code",
      "metadata": {
        "id": "tDVqXd3hsCYi"
      },
      "source": [
        ""
      ],
      "execution_count": null,
      "outputs": []
    },
    {
      "cell_type": "code",
      "metadata": {
        "id": "sn7lZZlxRLQ8"
      },
      "source": [
        "antVacc_Tweets=pd.read_csv('antVacc_Tweets_full.csv')"
      ],
      "execution_count": 8,
      "outputs": []
    },
    {
      "cell_type": "code",
      "metadata": {
        "id": "n1yQcknat6nr"
      },
      "source": [
        "strong_antVacc_Tweets=antVacc_Tweets[antVacc_Tweets.scores>0.8]"
      ],
      "execution_count": 9,
      "outputs": []
    },
    {
      "cell_type": "code",
      "metadata": {
        "id": "9WTF-wPzpLZo",
        "outputId": "c493f593-a046-4cd4-d606-6c6cd83a1c98",
        "colab": {
          "base_uri": "https://localhost:8080/"
        }
      },
      "source": [
        "strong_antVacc_Tweets.shape"
      ],
      "execution_count": 10,
      "outputs": [
        {
          "output_type": "execute_result",
          "data": {
            "text/plain": [
              "(52, 17)"
            ]
          },
          "metadata": {
            "tags": []
          },
          "execution_count": 10
        }
      ]
    },
    {
      "cell_type": "code",
      "metadata": {
        "id": "kTx-rxpKsgjz"
      },
      "source": [
        "context=strong_antVacc_Tweets.full_text[:].tolist()"
      ],
      "execution_count": 11,
      "outputs": []
    },
    {
      "cell_type": "code",
      "metadata": {
        "id": "dVFIzQzlsgYu",
        "outputId": "75713831-4ec8-48d5-ccd0-d09c00058698",
        "colab": {
          "base_uri": "https://localhost:8080/"
        }
      },
      "source": [
        "# summarizer = pipeline(\"summarization\")\r\n",
        "# summarizer(context, max_length=20, min_length=5, do_sample=False)"
      ],
      "execution_count": 19,
      "outputs": [
        {
          "output_type": "execute_result",
          "data": {
            "text/plain": [
              "[{'summary_text': ' Steve Scalise is using his position to elevate Republicans who have publicly urged Americans not to'},\n",
              " {'summary_text': ' He never said he was anti vaccine. Hes anti covid vax. At least'},\n",
              " {'summary_text': ' Guy outside vaccination centre telling everyone #COVID-19 was a #Hoax .'},\n",
              " {'summary_text': ' Anti-vax campaigners, and Covid 19 sceptics, can come out with'},\n",
              " {'summary_text': ' Many assume reticence is an outgrowth of the ‘anti-vax'},\n",
              " {'summary_text': ' We need at least 70% of the population to be immunized to reach herd immunity'},\n",
              " {'summary_text': ' The amount of anti-vax folks in the beginning of this pandemic and the'},\n",
              " {'summary_text': ' Been working all the way thru this pandemic, haven’t caught anything,'},\n",
              " {'summary_text': \" @senrobportman: Lets be clear during a pandemic this Senator doesn't\"},\n",
              " {'summary_text': \" It takes 6yrs to work towards a safe Vaccine also we Africans don't like\"}]"
            ]
          },
          "metadata": {
            "tags": []
          },
          "execution_count": 19
        }
      ]
    },
    {
      "cell_type": "code",
      "metadata": {
        "id": "KO8OCp3wvdqf",
        "outputId": "1142a39c-e2ea-4392-a6ce-fb4ca3163807",
        "colab": {
          "base_uri": "https://localhost:8080/"
        }
      },
      "source": [
        "QA = pipeline(\"question-answering\")\r\n",
        "\r\n",
        "result = QA(question=\"how many reasons for not taking the vaccine?\", context=context[0])\r\n",
        "print(f\"Answer: '{result['answer']}', score: {round(result['score'], 4)}, start: {result['start']}, end: {result['end']}\")\r\n"
      ],
      "execution_count": 23,
      "outputs": [
        {
          "output_type": "stream",
          "text": [
            "/usr/local/lib/python3.7/dist-packages/transformers/tokenization_utils_base.py:1321: FutureWarning: The `max_len` attribute has been deprecated and will be removed in a future version, use `model_max_length` instead.\n",
            "  FutureWarning,\n"
          ],
          "name": "stderr"
        },
        {
          "output_type": "stream",
          "text": [
            "Answer: 'anti-vax, conspiracy theorists,', score: 0.2788, start: 82, end: 113\n"
          ],
          "name": "stdout"
        }
      ]
    },
    {
      "cell_type": "code",
      "metadata": {
        "id": "A_tKQpNMvc2X",
        "outputId": "f273eff6-381d-4237-d0e7-cc92a022e47f",
        "colab": {
          "base_uri": "https://localhost:8080/"
        }
      },
      "source": [
        "%%time\r\n",
        "\r\n",
        "from transformers import AutoTokenizer, AutoModelForQuestionAnswering\r\n",
        "import torch\r\n",
        "tokenizer = AutoTokenizer.from_pretrained(\"bert-large-uncased-whole-word-masking-finetuned-squad\")\r\n",
        "model = AutoModelForQuestionAnswering.from_pretrained(\"bert-large-uncased-whole-word-masking-finetuned-squad\", return_dict=True)\r\n",
        "\r\n",
        "# context = ['People have stated that they will never take the vaccine, either because they are anti-vax, conspiracy theorists, or feel that the current vaccines are rushed and possibly dangerous',\\\r\n",
        "#            'Protesters demonstrate against vaccine coercion, green passports in Tel Aviv. Anti-vax campaigners, and Covid 19 sceptics, can come out with the most offensive, and ridiculous, analogies ',\\\r\n",
        "#            'Less than 1 week after urging Republicans to block $160B in vaccine funding, Minority Whip @SteveScalise is using his position to elevate Republicans who have publicly urged Americans not to take the COVID-19 vaccine. ',\r\n",
        "#            'Community Lattice exists to advance community development by equipping people with the resources they need to create economically sustainable, socially equitable, and resilient places.']\r\n",
        "\r\n",
        "question = \"what are the reasons for not taking COVID vaccine?\"\r\n",
        "\r\n",
        "answers=[]\r\n",
        "\r\n",
        "for text in context:\r\n",
        "    inputs = tokenizer(question, text, add_special_tokens=True, return_tensors=\"pt\")\r\n",
        "    input_ids = inputs[\"input_ids\"].tolist()[0]\r\n",
        "    text_tokens = tokenizer.convert_ids_to_tokens(input_ids)\r\n",
        "    outputs = model(**inputs)\r\n",
        "    answer_start_scores = outputs.start_logits\r\n",
        "    answer_end_scores = outputs.end_logits\r\n",
        "    answer_start = torch.argmax(\r\n",
        "        answer_start_scores\r\n",
        "    )  # Get the most likely beginning of answer with the argmax of the score\r\n",
        "    answer_end = torch.argmax(answer_end_scores) + 1  # Get the most likely end of answer with the argmax of the score\r\n",
        "    answer = tokenizer.convert_tokens_to_string(tokenizer.convert_ids_to_tokens(input_ids[answer_start:answer_end]))\r\n",
        "\r\n",
        "    answers.append(answer)\r\n",
        "\r\n",
        "    #print(f\"Question: {question}\")\r\n",
        "    print(f\"Answer: {answer}\")"
      ],
      "execution_count": 14,
      "outputs": [
        {
          "output_type": "stream",
          "text": [
            "Answer: publicly urged americans not to take the covid - 19 vaccine\n",
            "Answer: integrity\n",
            "Answer: \n",
            "Answer: protesters demonstrate against vaccine coercion , green passports in tel aviv . anti - vax campaigners , and covid 19 sceptics , can come out with the most offensive , and ridiculous , analogies\n",
            "Answer: the reasons health care workers have declined are complicated\n",
            "Answer: they are anti - vax , conspiracy theorists , or feel that the current vaccines are rushed and possibly dangerous\n",
            "Answer: the amount of anti - vax folks in the beginning of this pandemic and the scarcity of covid - 19\n",
            "Answer: \n",
            "Answer: \n",
            "Answer: africans don ’ t like your human / animal experimentations\n",
            "Answer: they don ’ t want to help biden stop the pandemic\n",
            "Answer: inaccuracies and misinformation\n",
            "Answer: 2 florida women busted while dressed up as “ grannies ”\n",
            "Answer: she doesnt feel well\n",
            "Answer: 2 florida women busted while dressed up as “ grannies ”\n",
            "Answer: a sore arm and a rash\n",
            "Answer: \n",
            "Answer: they are labelled anti vaxers\n",
            "Answer: a virus . . . ? ? a pandemic\n",
            "Answer: get sick on purpose with something that hasn ’ t been tested for a virus with a 99 . 9 % survival rate\n",
            "Answer: cost of indian vaccination\n",
            "Answer: experimental vaccines imposed & amp ; those who have concerns being bullied\n",
            "Answer: 2 . 48 million people have died from the virus and not aware of any that have died from the vaccine\n",
            "Answer: the vaccine will massively death rates , covid numbers , hospital and icu admissions\n",
            "Answer: experimental bio - warfare ’ : melbourne anti - vax protesters\n",
            "Answer: no one is getting tested\n",
            "Answer: it is unlikely to kill or severely impact me\n",
            "Answer: not like we ' re literally an at - risk group , particularly at risk because we ' re fucking invisible due to not being included in the groups properly\n",
            "Answer: i already have a perfectly fine immune system which actually also prevents a severe case of covid\n",
            "Answer: support for brexit and being anti - covid vaccination both correlate with intelligence\n",
            "Answer: if a vaccine has side effects\n",
            "Answer: more fear , severe restrictions , vaccinations , deaths\n",
            "Answer: massive death count\n",
            "Answer: i live in brazil where there are more than 200 million people here and less than 5 % is vaccinated\n",
            "Answer: i don ’ t wear a mask , and am not going to get the vaccine\n",
            "Answer: what do they know ? expect more # covidfear from # fakenews @ bbcnews to convince you that you will die without one\n",
            "Answer: i ' d prefer to miss the olympics\n",
            "Answer: petition : do not rollout covid - 19 vaccine passports\n",
            "Answer: pfizer # covid19 # plandemic # vaccine # stopthemadness # openamerica # stand # unitedwestand\n",
            "Answer: my friend got the vaccine and was fucked up for weeks with all the symptoms of covid and more symptoms\n",
            "Answer: petition : do not rollout covid - 19 vaccine passports\n",
            "Answer: the death rate has not change in 3 year - they is no pandemic\n",
            "Answer: south africa leads backlash against big pharma over covid vaccine access\n",
            "Answer: war on # covid19\n",
            "Answer: i have an autoimmune disease that has been very stable for years now and i don ’ t believe triggering an immune response would be a wise choice for me\n",
            "Answer: masks aren ’ t healthy\n",
            "Answer: ineligible people\n",
            "Answer: you may have a better chance of winning the power ball lottery\n",
            "Answer: due to serve allergies and i ' m certainly not having anyone tell me i ' m selfish\n",
            "Answer: age shapes covid - 19 vaccine reluctance among black americans\n",
            "Answer: it was all a chinese conspiracy and my vax would give her the virus\n",
            "Answer: regulator seeks local trial\n",
            "CPU times: user 58.1 s, sys: 1.13 s, total: 59.3 s\n",
            "Wall time: 59.4 s\n"
          ],
          "name": "stdout"
        }
      ]
    },
    {
      "cell_type": "code",
      "metadata": {
        "id": "GWmrt3lT2Q03",
        "outputId": "fab83aa3-801b-499a-af5e-f71a54c99b99",
        "colab": {
          "base_uri": "https://localhost:8080/"
        }
      },
      "source": [
        "answers[0:20]"
      ],
      "execution_count": 15,
      "outputs": [
        {
          "output_type": "execute_result",
          "data": {
            "text/plain": [
              "['publicly urged americans not to take the covid - 19 vaccine',\n",
              " 'integrity',\n",
              " '',\n",
              " 'protesters demonstrate against vaccine coercion , green passports in tel aviv . anti - vax campaigners , and covid 19 sceptics , can come out with the most offensive , and ridiculous , analogies',\n",
              " 'the reasons health care workers have declined are complicated',\n",
              " 'they are anti - vax , conspiracy theorists , or feel that the current vaccines are rushed and possibly dangerous',\n",
              " 'the amount of anti - vax folks in the beginning of this pandemic and the scarcity of covid - 19',\n",
              " '',\n",
              " '',\n",
              " 'africans don ’ t like your human / animal experimentations',\n",
              " 'they don ’ t want to help biden stop the pandemic',\n",
              " 'inaccuracies and misinformation',\n",
              " '2 florida women busted while dressed up as “ grannies ”',\n",
              " 'she doesnt feel well',\n",
              " '2 florida women busted while dressed up as “ grannies ”',\n",
              " 'a sore arm and a rash',\n",
              " '',\n",
              " 'they are labelled anti vaxers',\n",
              " 'a virus . . . ? ? a pandemic',\n",
              " 'get sick on purpose with something that hasn ’ t been tested for a virus with a 99 . 9 % survival rate']"
            ]
          },
          "metadata": {
            "tags": []
          },
          "execution_count": 15
        }
      ]
    },
    {
      "cell_type": "code",
      "metadata": {
        "id": "VGhyqwLq2QXe"
      },
      "source": [
        ""
      ],
      "execution_count": null,
      "outputs": []
    },
    {
      "cell_type": "code",
      "metadata": {
        "id": "VP0k1j1RsXTs"
      },
      "source": [
        ""
      ],
      "execution_count": 7,
      "outputs": []
    },
    {
      "cell_type": "code",
      "metadata": {
        "id": "6CKp9Q3mJ8KR",
        "outputId": "cabe5518-b3db-41ce-a7a4-ee13d5a21104",
        "colab": {
          "base_uri": "https://localhost:8080/"
        }
      },
      "source": [
        "# memory footprint support libraries/code\r\n",
        "!ln -sf /opt/bin/nvidia-smi /usr/bin/nvidia-smi\r\n",
        "# !pip install gputil\r\n",
        "# !pip install psutil\r\n",
        "# !pip install humanize\r\n",
        "\r\n",
        "import psutil\r\n",
        "import humanize\r\n",
        "import os\r\n",
        "import GPUtil as GPU\r\n",
        "GPUs = GPU.getGPUs()\r\n",
        "\r\n",
        "# XXX: only one GPU on Colab and isn’t guaranteed\r\n",
        "gpu = GPUs[0]\r\n",
        "def printm():\r\n",
        "  process = psutil.Process(os.getpid())\r\n",
        "  print(\"Gen RAM Free: \" + humanize.naturalsize( psutil.virtual_memory().available ), \" | Proc size: \" + humanize.naturalsize( process.memory_info().rss))\r\n",
        "  print(\"GPU RAM Free: {0:.0f}MB | Used: {1:.0f}MB | Util {2:3.0f}% | Total {3:.0f}MB\".format(gpu.memoryFree, gpu.memoryUsed, gpu.memoryUtil*100, gpu.memoryTotal))\r\n",
        "\r\n",
        "printm()"
      ],
      "execution_count": 13,
      "outputs": [
        {
          "output_type": "stream",
          "text": [
            "Gen RAM Free: 9.6 GB  | Proc size: 6.3 GB\n",
            "GPU RAM Free: 12589MB | Used: 2520MB | Util  17% | Total 15109MB\n"
          ],
          "name": "stdout"
        }
      ]
    },
    {
      "cell_type": "code",
      "metadata": {
        "id": "jLq72uD0NhR9"
      },
      "source": [
        ""
      ],
      "execution_count": null,
      "outputs": []
    }
  ]
}